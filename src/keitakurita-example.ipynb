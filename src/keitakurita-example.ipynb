{
 "cells": [
  {
   "cell_type": "code",
   "execution_count": null,
   "metadata": {},
   "outputs": [],
   "source": [
    "#http://mlexplained.com/2018/02/08/a-comprehensive-tutorial-to-torchtext/"
   ]
  },
  {
   "cell_type": "code",
   "execution_count": 6,
   "metadata": {},
   "outputs": [
    {
     "name": "stderr",
     "output_type": "stream",
     "text": [
      "--2018-03-11 02:04:39--  https://raw.githubusercontent.com/keitakurita/practical-torchtext/master/Lesson%201%20intro%20to%20torchtext%20with%20text%20classification.ipynb\n",
      "Resolving raw.githubusercontent.com (raw.githubusercontent.com)... 151.101.0.133, 151.101.64.133, 151.101.128.133, ...\n",
      "Connecting to raw.githubusercontent.com (raw.githubusercontent.com)|151.101.0.133|:443... connected.\n",
      "HTTP request sent, awaiting response... 200 OK\n",
      "Length: 36111 (35K) [text/plain]\n",
      "Saving to: â€˜Lesson 1 intro to torchtext with text classification.ipynbâ€™\n",
      "\n",
      "     0K .......... .......... .......... .....                100%  579K=0.06s\n",
      "\n",
      "2018-03-11 02:04:40 (579 KB/s) - â€˜Lesson 1 intro to torchtext with text classification.ipynbâ€™ saved [36111/36111]\n",
      "\n"
     ]
    }
   ],
   "source": [
    "%%bash \n",
    "wget https://raw.githubusercontent.com/keitakurita/practical-torchtext/master/Lesson%201%20intro%20to%20torchtext%20with%20text%20classification.ipynb"
   ]
  },
  {
   "cell_type": "code",
   "execution_count": 3,
   "metadata": {},
   "outputs": [
    {
     "name": "stderr",
     "output_type": "stream",
     "text": [
      "UsageError: %%sh is a cell magic, but the cell body is empty.\n"
     ]
    }
   ],
   "source": []
  },
  {
   "cell_type": "code",
   "execution_count": null,
   "metadata": {},
   "outputs": [],
   "source": []
  }
 ],
 "metadata": {
  "kernelspec": {
   "display_name": "Python 3",
   "language": "python",
   "name": "python3"
  },
  "language_info": {
   "codemirror_mode": {
    "name": "ipython",
    "version": 3
   },
   "file_extension": ".py",
   "mimetype": "text/x-python",
   "name": "python",
   "nbconvert_exporter": "python",
   "pygments_lexer": "ipython3",
   "version": "3.6.4"
  }
 },
 "nbformat": 4,
 "nbformat_minor": 2
}
